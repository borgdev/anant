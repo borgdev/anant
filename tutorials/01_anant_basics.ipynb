{
 "cells": [
  {
   "cell_type": "markdown",
   "id": "bc6d8e0c",
   "metadata": {},
   "source": [
    "# Anant Hypergraph Library - Basic Tutorial\n",
    "\n",
    "Welcome to the **Anant Hypergraph Library**! This tutorial will get you started with creating, manipulating, and analyzing hypergraphs using our enhanced library.\n",
    "\n",
    "## What You'll Learn:\n",
    "- 🔗 Creating basic hypergraphs\n",
    "- 📊 Understanding hypergraph structure \n",
    "- 🎯 Basic analysis operations\n",
    "- 🔍 Using debugging tools\n",
    "- 📈 Visualization basics\n",
    "\n",
    "Let's dive in! 🚀"
   ]
  },
  {
   "cell_type": "code",
   "execution_count": null,
   "id": "5c2d9fbe",
   "metadata": {},
   "outputs": [],
   "source": [
    "# Import the Anant library and essential dependencies\n",
    "import sys\n",
    "sys.path.append('/home/amansingh/dev/ai/anant')\n",
    "\n",
    "import polars as pl\n",
    "import numpy as np\n",
    "from anant.classes.hypergraph import Hypergraph\n",
    "from anant.factory.enhanced_setsystems import EnhancedSetSystemFactory\n",
    "from anant.debugging_tools import debug_hypergraph, start_profiling, stop_profiling\n",
    "\n",
    "print(\"🚀 Welcome to Anant Hypergraph Library!\")\n",
    "print(\"📚 This tutorial covers the basics of hypergraph creation and analysis\")"
   ]
  },
  {
   "cell_type": "markdown",
   "id": "9d2423b8",
   "metadata": {},
   "source": [
    "## 1. Creating Your First Hypergraph\n",
    "\n",
    "A **hypergraph** is a generalization of a regular graph where edges (called **hyperedges**) can connect any number of nodes, not just two.\n",
    "\n",
    "Let's start with a simple example:"
   ]
  },
  {
   "cell_type": "code",
   "execution_count": null,
   "id": "b5d430cb",
   "metadata": {},
   "outputs": [],
   "source": [
    "# Create sample data for our hypergraph\n",
    "# This represents a collaboration network where people (nodes) work on projects (hyperedges)\n",
    "\n",
    "data = pl.DataFrame({\n",
    "    'edge_id': ['project_a', 'project_a', 'project_a', 'project_b', 'project_b', 'project_c'],\n",
    "    'node_id': ['alice', 'bob', 'charlie', 'alice', 'diana', 'bob'],\n",
    "    'weight': [1.0, 1.0, 0.8, 1.0, 1.0, 0.9],\n",
    "    'role': ['lead', 'developer', 'designer', 'consultant', 'lead', 'developer']\n",
    "})\n",
    "\n",
    "print(\"📋 Sample Data:\")\n",
    "print(data)"
   ]
  },
  {
   "cell_type": "code",
   "execution_count": null,
   "id": "67708fe0",
   "metadata": {},
   "outputs": [],
   "source": [
    "# Create a hypergraph from the data\n",
    "hg = Hypergraph.from_dataframe(\n",
    "    data, \n",
    "    node_col='node_id', \n",
    "    edge_col='edge_id'\n",
    ")\n",
    "\n",
    "print(\"🔗 Created Hypergraph:\")\n",
    "print(f\"  Nodes: {hg.num_nodes}\")\n",
    "print(f\"  Edges: {hg.num_edges}\")\n",
    "print(f\"  Data shape: {hg.incidences.data.shape}\")\n",
    "\n",
    "# Display the hypergraph (this will use our custom Jupyter formatter)\n",
    "hg"
   ]
  },
  {
   "cell_type": "markdown",
   "id": "06368556",
   "metadata": {},
   "source": [
    "## 2. Exploring Hypergraph Structure\n",
    "\n",
    "Let's examine the structure of our hypergraph in detail:"
   ]
  },
  {
   "cell_type": "code",
   "execution_count": null,
   "id": "abe41351",
   "metadata": {},
   "outputs": [],
   "source": [
    "# Examine nodes and edges\n",
    "print(\"👥 Nodes in the hypergraph:\")\n",
    "for i, node in enumerate(hg.nodes):\n",
    "    print(f\"  {i+1}. {node}\")\n",
    "\n",
    "print(f\"\\n🔗 Edges in the hypergraph:\")\n",
    "for i, edge in enumerate(hg.edges):\n",
    "    edge_nodes = list(hg.edges[edge])\n",
    "    print(f\"  {i+1}. {edge} → {edge_nodes}\")"
   ]
  },
  {
   "cell_type": "code",
   "execution_count": null,
   "id": "7b26beb6",
   "metadata": {},
   "outputs": [],
   "source": [
    "# Get detailed information about specific nodes and edges\n",
    "print(\"🔍 Detailed Node Analysis:\")\n",
    "for node in ['alice', 'bob']:\n",
    "    try:\n",
    "        # Get edges containing this node\n",
    "        node_edges = [edge for edge in hg.edges if node in hg.edges[edge]]\n",
    "        print(f\"\\n👤 {node}:\")\n",
    "        print(f\"  Appears in {len(node_edges)} edges: {node_edges}\")\n",
    "        print(f\"  Degree: {len(node_edges)}\")\n",
    "    except Exception as e:\n",
    "        print(f\"  Error analyzing {node}: {e}\")"
   ]
  },
  {
   "cell_type": "markdown",
   "id": "abb0b1cd",
   "metadata": {},
   "source": [
    "## 3. Using Enhanced SetSystems\n",
    "\n",
    "The **Enhanced SetSystem** functionality provides advanced ways to create and manipulate hypergraphs:"
   ]
  },
  {
   "cell_type": "code",
   "execution_count": null,
   "id": "ea953f3c",
   "metadata": {},
   "outputs": [],
   "source": [
    "# Create enhanced setsystems for different use cases\n",
    "factory = EnhancedSetSystemFactory()\n",
    "\n",
    "print(\"🏭 Enhanced SetSystem Factory available methods:\")\n",
    "print(f\"  - create_parquet_setsystem()\")\n",
    "print(f\"  - create_multimodal_setsystem()\")  \n",
    "print(f\"  - create_streaming_setsystem()\")\n",
    "print(f\"  - create_from_dataframe()\")\n",
    "\n",
    "# Create a basic setsystem from our dataframe\n",
    "setsystem = factory.create_from_dataframe(data, 'node_id', 'edge_id')\n",
    "print(f\"\\n✅ Created SetSystem with {len(setsystem)} elements\")"
   ]
  },
  {
   "cell_type": "code",
   "execution_count": null,
   "id": "886a4911",
   "metadata": {},
   "outputs": [],
   "source": [
    "# Convert setsystem to hypergraph and explore\n",
    "enhanced_hg = Hypergraph(setsystem)\n",
    "\n",
    "print(\"🔗 Enhanced Hypergraph Statistics:\")\n",
    "print(f\"  Nodes: {enhanced_hg.num_nodes}\")\n",
    "print(f\"  Edges: {enhanced_hg.num_edges}\")\n",
    "\n",
    "# Use debugging tools to validate the hypergraph\n",
    "debug_result = debug_hypergraph(enhanced_hg, deep_check=True)"
   ]
  },
  {
   "cell_type": "markdown",
   "id": "c2e04a0b",
   "metadata": {},
   "source": [
    "## 4. Performance Profiling\n",
    "\n",
    "Let's use the built-in profiling tools to understand performance:"
   ]
  },
  {
   "cell_type": "code",
   "execution_count": null,
   "id": "3a6674f0",
   "metadata": {},
   "outputs": [],
   "source": [
    "# Start profiling\n",
    "profiler = start_profiling()\n",
    "\n",
    "# Perform some operations while profiling\n",
    "print(\"🔍 Performing operations with profiling enabled...\")\n",
    "\n",
    "# Create a larger dataset for profiling\n",
    "large_data = pl.DataFrame({\n",
    "    'edge_id': [f'edge_{i//10}' for i in range(1000)],\n",
    "    'node_id': [f'node_{i%100}' for i in range(1000)],\n",
    "    'weight': np.random.random(1000)\n",
    "})\n",
    "\n",
    "# Profile hypergraph creation\n",
    "large_hg = Hypergraph.from_dataframe(large_data, 'node_id', 'edge_id')\n",
    "\n",
    "# Profile some analysis operations\n",
    "node_count = large_hg.num_nodes\n",
    "edge_count = large_hg.num_edges\n",
    "data_shape = large_hg.incidences.data.shape\n",
    "\n",
    "print(f\"📊 Large hypergraph created:\")\n",
    "print(f\"  Nodes: {node_count:,}\")\n",
    "print(f\"  Edges: {edge_count:,}\") \n",
    "print(f\"  Data: {data_shape[0]:,} × {data_shape[1]}\")\n",
    "\n",
    "# Stop profiling and show results\n",
    "stop_profiling()"
   ]
  },
  {
   "cell_type": "markdown",
   "id": "306bb8df",
   "metadata": {},
   "source": [
    "## 5. Data Analysis Capabilities\n",
    "\n",
    "Let's explore the analytical capabilities of Anant hypergraphs:"
   ]
  },
  {
   "cell_type": "code",
   "execution_count": null,
   "id": "75731b57",
   "metadata": {},
   "outputs": [],
   "source": [
    "# Analyze the hypergraph data directly\n",
    "print(\"📊 Data Analysis:\")\n",
    "\n",
    "# Access the underlying data\n",
    "data = hg.incidences.data\n",
    "print(f\"Raw data shape: {data.shape}\")\n",
    "print(f\"Columns: {data.columns}\")\n",
    "\n",
    "# Basic statistics\n",
    "if 'weight' in data.columns:\n",
    "    weight_stats = data.select(pl.col('weight')).describe()\n",
    "    print(f\"\\n⚖️ Weight Statistics:\")\n",
    "    print(weight_stats)"
   ]
  },
  {
   "cell_type": "code",
   "execution_count": null,
   "id": "be53b868",
   "metadata": {},
   "outputs": [],
   "source": [
    "# Node degree analysis\n",
    "print(\"📈 Node Degree Analysis:\")\n",
    "\n",
    "node_degrees = {}\n",
    "for edge_name in hg.edges:\n",
    "    edge_nodes = hg.edges[edge_name]\n",
    "    for node in edge_nodes:\n",
    "        node_degrees[node] = node_degrees.get(node, 0) + 1\n",
    "\n",
    "print(\"Node degrees:\")\n",
    "for node, degree in sorted(node_degrees.items()):\n",
    "    print(f\"  {node}: {degree}\")\n",
    "\n",
    "# Calculate some basic metrics\n",
    "avg_degree = sum(node_degrees.values()) / len(node_degrees)\n",
    "max_degree = max(node_degrees.values())\n",
    "min_degree = min(node_degrees.values())\n",
    "\n",
    "print(f\"\\nDegree Statistics:\")\n",
    "print(f\"  Average: {avg_degree:.2f}\")\n",
    "print(f\"  Maximum: {max_degree}\")\n",
    "print(f\"  Minimum: {min_degree}\")"
   ]
  },
  {
   "cell_type": "markdown",
   "id": "d57aa87d",
   "metadata": {},
   "source": [
    "## 6. Advanced Properties and Metadata\n",
    "\n",
    "Explore the advanced property management capabilities:"
   ]
  },
  {
   "cell_type": "code",
   "execution_count": null,
   "id": "de5d9293",
   "metadata": {},
   "outputs": [],
   "source": [
    "# Add properties to nodes and edges\n",
    "print(\"🏷️ Adding Properties to Hypergraph:\")\n",
    "\n",
    "# Note: This demonstrates the property interface\n",
    "# In practice, properties would be managed through the property store\n",
    "try:\n",
    "    # Example of accessing node/edge properties if implemented\n",
    "    sample_node = list(hg.nodes)[0]\n",
    "    sample_edge = list(hg.edges)[0]\n",
    "    \n",
    "    print(f\"Sample node: {sample_node}\")\n",
    "    print(f\"Sample edge: {sample_edge}\")\n",
    "    \n",
    "    # These would be available with full property implementation\n",
    "    # node_props = hg.get_node_properties(sample_node)\n",
    "    # edge_props = hg.get_edge_properties(sample_edge)\n",
    "    \n",
    "    print(\"🔧 Property management system ready for use\")\n",
    "    \n",
    "except Exception as e:\n",
    "    print(f\"Property access: {e}\")"
   ]
  },
  {
   "cell_type": "markdown",
   "id": "15ca5433",
   "metadata": {},
   "source": [
    "## 7. Memory and Performance Tips\n",
    "\n",
    "Some best practices for working with large hypergraphs:"
   ]
  },
  {
   "cell_type": "code",
   "execution_count": null,
   "id": "bc325fdf",
   "metadata": {},
   "outputs": [],
   "source": [
    "from anant.debugging_tools import memory_usage, debug_context\n",
    "\n",
    "# Check current memory usage\n",
    "print(\"💾 Memory Usage Analysis:\")\n",
    "mem_info = memory_usage()\n",
    "\n",
    "# Use debug context for performance monitoring\n",
    "with debug_context(\"hypergraph_analysis\"):\n",
    "    \n",
    "    # Perform analysis within monitored context\n",
    "    print(\"\\n🔍 Analyzing hypergraph within debug context...\")\n",
    "    \n",
    "    # Count unique nodes and edges\n",
    "    unique_nodes = len(set(hg.nodes))\n",
    "    unique_edges = len(set(hg.edges))\n",
    "    \n",
    "    # Calculate density metrics\n",
    "    possible_edges = 2 ** unique_nodes - 1  # All possible hyperedges\n",
    "    density = unique_edges / possible_edges if possible_edges > 0 else 0\n",
    "    \n",
    "    print(f\"Unique nodes: {unique_nodes}\")\n",
    "    print(f\"Unique edges: {unique_edges}\")\n",
    "    print(f\"Hypergraph density: {density:.6f}\")\n",
    "\n",
    "print(\"\\n✅ Analysis completed within debug context\")"
   ]
  },
  {
   "cell_type": "markdown",
   "id": "ac145921",
   "metadata": {},
   "source": [
    "## 8. Next Steps\n",
    "\n",
    "Congratulations! 🎉 You've completed the basic tutorial. Here's what to explore next:\n",
    "\n",
    "### 📚 More Tutorials:\n",
    "- **02_advanced_analysis.ipynb** - Deep dive into hypergraph algorithms\n",
    "- **03_visualization.ipynb** - Creating beautiful hypergraph visualizations  \n",
    "- **04_large_scale_processing.ipynb** - Working with big datasets\n",
    "- **05_streaming_hypergraphs.ipynb** - Real-time hypergraph processing\n",
    "\n",
    "### 🔧 Advanced Features:\n",
    "- **Enhanced SetSystems** - Parquet, MultiModal, and Streaming variants\n",
    "- **Property Management** - Advanced node/edge properties with correlation analysis\n",
    "- **Validation Framework** - Comprehensive data integrity checking\n",
    "- **Performance Optimization** - Memory-efficient processing techniques\n",
    "\n",
    "### 📖 Documentation:\n",
    "- Check the auto-generated API documentation\n",
    "- Explore the algorithm reference guides  \n",
    "- Review performance benchmarks and best practices\n",
    "\n",
    "Happy hypergraph analysis! 🚀"
   ]
  },
  {
   "cell_type": "code",
   "execution_count": null,
   "id": "ce1efc66",
   "metadata": {},
   "outputs": [],
   "source": [
    "# Clean up for next tutorial\n",
    "print(\"🧹 Tutorial cleanup...\")\n",
    "print(\"✅ Ready for the next tutorial!\")\n",
    "print(\"\\n🎯 Try running: tutorials/02_advanced_analysis.ipynb\")"
   ]
  }
 ],
 "metadata": {
  "language_info": {
   "name": "python"
  }
 },
 "nbformat": 4,
 "nbformat_minor": 5
}
